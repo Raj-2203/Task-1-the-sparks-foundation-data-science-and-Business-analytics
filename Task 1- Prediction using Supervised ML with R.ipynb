{
 "cells": [
  {
   "cell_type": "markdown",
   "id": "74c3ccf9",
   "metadata": {},
   "source": [
    "#  Author: Raj Khandagale\n",
    "## GRIP @ The Sparks Foundation\n",
    "### Task 1- Prediction using Supervised ML with R \n",
    "#### In this section, we will see how we can perform machine learning using R programming language , which can be used to implement regression functions.\n",
    "#### In this machine learning task we will predict the score that a student is expected to get based upon the number of hours they studied.\n",
    "#### Model involved in this is simple linear regression model as it involves just two variables- Hours( studied by student) and Scores(Scores obtained by student )"
   ]
  },
  {
   "cell_type": "markdown",
   "id": "785ab5f6",
   "metadata": {},
   "source": [
    "***"
   ]
  },
  {
   "cell_type": "markdown",
   "id": "8323b8da",
   "metadata": {},
   "source": [
    "##  Step1 : Importing libraries"
   ]
  },
  {
   "cell_type": "code",
   "execution_count": 1,
   "id": "511acf36",
   "metadata": {
    "scrolled": true
   },
   "outputs": [
    {
     "name": "stderr",
     "output_type": "stream",
     "text": [
      "Warning message:\n",
      "\"package 'tseries' was built under R version 3.6.3\"Registered S3 method overwritten by 'xts':\n",
      "  method     from\n",
      "  as.zoo.xts zoo \n",
      "Registered S3 method overwritten by 'quantmod':\n",
      "  method            from\n",
      "  as.zoo.data.frame zoo \n",
      "Registered S3 methods overwritten by 'ggplot2':\n",
      "  method         from \n",
      "  [.quosures     rlang\n",
      "  c.quosures     rlang\n",
      "  print.quosures rlang\n",
      "Registered S3 method overwritten by 'rvest':\n",
      "  method            from\n",
      "  read_xml.response xml2\n",
      "-- Attaching packages --------------------------------------- tidyverse 1.2.1 --\n",
      "v ggplot2 3.1.1       v purrr   0.3.2  \n",
      "v tibble  2.1.1       v dplyr   0.8.0.1\n",
      "v tidyr   0.8.3       v stringr 1.4.0  \n",
      "v readr   1.3.1       v forcats 0.4.0  \n",
      "-- Conflicts ------------------------------------------ tidyverse_conflicts() --\n",
      "x dplyr::filter() masks stats::filter()\n",
      "x dplyr::lag()    masks stats::lag()\n"
     ]
    }
   ],
   "source": [
    "#importing libraries \n",
    "library(tseries)   #to import data through link directly \n",
    "library(tidyverse)"
   ]
  },
  {
   "cell_type": "markdown",
   "id": "a396bf07",
   "metadata": {},
   "source": [
    "***"
   ]
  },
  {
   "cell_type": "markdown",
   "id": "1ef8106d",
   "metadata": {},
   "source": [
    "## Step 2 : Importing and Analyzing Dataset"
   ]
  },
  {
   "cell_type": "code",
   "execution_count": 24,
   "id": "49976fec",
   "metadata": {},
   "outputs": [
    {
     "data": {
      "text/html": [
       "<table>\n",
       "<thead><tr><th scope=col>Hours</th><th scope=col>Scores</th></tr></thead>\n",
       "<tbody>\n",
       "\t<tr><td>2.5</td><td>21 </td></tr>\n",
       "\t<tr><td>5.1</td><td>47 </td></tr>\n",
       "\t<tr><td>3.2</td><td>27 </td></tr>\n",
       "\t<tr><td>8.5</td><td>75 </td></tr>\n",
       "\t<tr><td>3.5</td><td>30 </td></tr>\n",
       "\t<tr><td>1.5</td><td>20 </td></tr>\n",
       "</tbody>\n",
       "</table>\n"
      ],
      "text/latex": [
       "\\begin{tabular}{r|ll}\n",
       " Hours & Scores\\\\\n",
       "\\hline\n",
       "\t 2.5 & 21 \\\\\n",
       "\t 5.1 & 47 \\\\\n",
       "\t 3.2 & 27 \\\\\n",
       "\t 8.5 & 75 \\\\\n",
       "\t 3.5 & 30 \\\\\n",
       "\t 1.5 & 20 \\\\\n",
       "\\end{tabular}\n"
      ],
      "text/markdown": [
       "\n",
       "| Hours | Scores |\n",
       "|---|---|\n",
       "| 2.5 | 21  |\n",
       "| 5.1 | 47  |\n",
       "| 3.2 | 27  |\n",
       "| 8.5 | 75  |\n",
       "| 3.5 | 30  |\n",
       "| 1.5 | 20  |\n",
       "\n"
      ],
      "text/plain": [
       "  Hours Scores\n",
       "1 2.5   21    \n",
       "2 5.1   47    \n",
       "3 3.2   27    \n",
       "4 8.5   75    \n",
       "5 3.5   30    \n",
       "6 1.5   20    "
      ]
     },
     "metadata": {},
     "output_type": "display_data"
    },
    {
     "name": "stdout",
     "output_type": "stream",
     "text": [
      "'data.frame':\t25 obs. of  2 variables:\n",
      " $ Hours : num  2.5 5.1 3.2 8.5 3.5 1.5 9.2 5.5 8.3 2.7 ...\n",
      " $ Scores: int  21 47 27 75 30 20 88 60 81 25 ...\n"
     ]
    },
    {
     "data": {
      "text/html": [
       "<ol class=list-inline>\n",
       "\t<li>25</li>\n",
       "\t<li>2</li>\n",
       "</ol>\n"
      ],
      "text/latex": [
       "\\begin{enumerate*}\n",
       "\\item 25\n",
       "\\item 2\n",
       "\\end{enumerate*}\n"
      ],
      "text/markdown": [
       "1. 25\n",
       "2. 2\n",
       "\n",
       "\n"
      ],
      "text/plain": [
       "[1] 25  2"
      ]
     },
     "metadata": {},
     "output_type": "display_data"
    }
   ],
   "source": [
    "Data=read.csv(\"http://bit.ly/w-data\")\n",
    "head(Data)\n",
    "str(Data)\n",
    "dim(Data)\n",
    "Y=Data$Scores\n",
    "X=Data$Hours"
   ]
  },
  {
   "cell_type": "markdown",
   "id": "ad2ad1cb",
   "metadata": {},
   "source": [
    "From above results we can clearly observe that dataset has __25 observations and 2 variables__ which are __hours & scores__ \n",
    "scores are in the form of integer and hours are in the form of numeric."
   ]
  },
  {
   "cell_type": "code",
   "execution_count": 23,
   "id": "9e389f47",
   "metadata": {},
   "outputs": [
    {
     "data": {
      "text/html": [
       "0"
      ],
      "text/latex": [
       "0"
      ],
      "text/markdown": [
       "0"
      ],
      "text/plain": [
       "[1] 0"
      ]
     },
     "metadata": {},
     "output_type": "display_data"
    }
   ],
   "source": [
    "sum(is.na(Data))"
   ]
  },
  {
   "cell_type": "markdown",
   "id": "fc67ddea",
   "metadata": {},
   "source": [
    "There are no missing values in the data so no treatment is required."
   ]
  },
  {
   "cell_type": "markdown",
   "id": "7c262409",
   "metadata": {},
   "source": [
    "***"
   ]
  },
  {
   "cell_type": "markdown",
   "id": "5936a61f",
   "metadata": {},
   "source": [
    "## Step 3 :- Plotting and Studying the relationship between variables"
   ]
  },
  {
   "cell_type": "code",
   "execution_count": 4,
   "id": "b31b8d2a",
   "metadata": {
    "scrolled": false
   },
   "outputs": [
    {
     "data": {
      "image/png": "[encoded data removed]",
      "text/plain": [
       "plot without title"
      ]
     },
     "metadata": {},
     "output_type": "display_data"
    }
   ],
   "source": [
    "plot=ggplot(Data, aes(Hours, Scores)) + geom_point() \n",
    "plot"
   ]
  },
  {
   "cell_type": "code",
   "execution_count": 25,
   "id": "b630fd3c",
   "metadata": {},
   "outputs": [
    {
     "data": {
      "text/html": [
       "0.976190656022089"
      ],
      "text/latex": [
       "0.976190656022089"
      ],
      "text/markdown": [
       "0.976190656022089"
      ],
      "text/plain": [
       "[1] 0.9761907"
      ]
     },
     "metadata": {},
     "output_type": "display_data"
    }
   ],
   "source": [
    "cor(Y , X)"
   ]
  },
  {
   "cell_type": "markdown",
   "id": "d657d4d4",
   "metadata": {},
   "source": [
    "from above graph we can clearly observe the __strong positive relationship__ between the hours studied by the student and score obtained and that amount of correlation is __0.976190656022089__"
   ]
  },
  {
   "cell_type": "markdown",
   "id": "b749867e",
   "metadata": {},
   "source": [
    "***"
   ]
  },
  {
   "cell_type": "markdown",
   "id": "8e1e2e24",
   "metadata": {},
   "source": [
    "## Step4 :- Fitting the Simple Linear Regression Model "
   ]
  },
  {
   "cell_type": "code",
   "execution_count": 6,
   "id": "efb4556e",
   "metadata": {},
   "outputs": [
    {
     "data": {
      "text/plain": [
       "\n",
       "Call:\n",
       "lm(formula = Y ~ X)\n",
       "\n",
       "Residuals:\n",
       "    Min      1Q  Median      3Q     Max \n",
       "-10.578  -5.340   1.839   4.593   7.265 \n",
       "\n",
       "Coefficients:\n",
       "            Estimate Std. Error t value Pr(>|t|)    \n",
       "(Intercept)   2.4837     2.5317   0.981    0.337    \n",
       "X             9.7758     0.4529  21.583   <2e-16 ***\n",
       "---\n",
       "Signif. codes:  0 '***' 0.001 '**' 0.01 '*' 0.05 '.' 0.1 ' ' 1\n",
       "\n",
       "Residual standard error: 5.603 on 23 degrees of freedom\n",
       "Multiple R-squared:  0.9529,\tAdjusted R-squared:  0.9509 \n",
       "F-statistic: 465.8 on 1 and 23 DF,  p-value: < 2.2e-16\n"
      ]
     },
     "metadata": {},
     "output_type": "display_data"
    }
   ],
   "source": [
    "model=lm(Y~X)\n",
    "summary(model)"
   ]
  },
  {
   "cell_type": "markdown",
   "id": "7bebf037",
   "metadata": {},
   "source": [
    "From above summary we can clearely observe , \n",
    "From the P-value we can observe our model is significant at 1% error.\n",
    "\n",
    "Fitted model is \n",
    "Y =  2.4837 + 9.7758*X ( where Y is score obtained and x is hours studied as mentioned earlier )\n",
    "\n",
    "using this formula of model we can predict the values of scores given the amount of hours studied \n",
    "Also value of __R-SQUARED__ is __0.9529__ that indicates 95.29 % amount of variablity in the scores is explained by amount of hours studied.\n",
    "which implies our model is good fit."
   ]
  },
  {
   "cell_type": "code",
   "execution_count": 9,
   "id": "57a0f825",
   "metadata": {},
   "outputs": [
    {
     "data": {
      "image/png": "[encoded data removed]",
      "text/plain": [
       "plot without title"
      ]
     },
     "metadata": {},
     "output_type": "display_data"
    }
   ],
   "source": [
    "plot + labs(\n",
    "            y=\"scores by Student\",\n",
    "            x=\"Hours studied\",\n",
    "        title = \"Regression line of Scores by Student vs Hours studied\"\n",
    "         ) + theme_dark() +stat_smooth(method = \"lm\",\n",
    "        col = 7,\n",
    "        se = FALSE,\n",
    "        size = 1.5)\n"
   ]
  },
  {
   "cell_type": "markdown",
   "id": "902f17e8",
   "metadata": {},
   "source": [
    "In the above plot dots represnt the actual values and yellow straight line represents the fitted values of the model "
   ]
  },
  {
   "cell_type": "markdown",
   "id": "96d1e351",
   "metadata": {},
   "source": [
    "***"
   ]
  },
  {
   "cell_type": "markdown",
   "id": "96ba9698",
   "metadata": {},
   "source": [
    "## Step 5 :- compairing actual V/s Fitted values "
   ]
  },
  {
   "cell_type": "code",
   "execution_count": 10,
   "id": "caa8e9aa",
   "metadata": {},
   "outputs": [
    {
     "data": {
      "text/html": [
       "<table>\n",
       "<thead><tr><th scope=col>est_Y</th><th scope=col>Y</th></tr></thead>\n",
       "<tbody>\n",
       "\t<tr><td>26.92318</td><td>21      </td></tr>\n",
       "\t<tr><td>52.34027</td><td>47      </td></tr>\n",
       "\t<tr><td>33.76624</td><td>27      </td></tr>\n",
       "\t<tr><td>85.57800</td><td>75      </td></tr>\n",
       "\t<tr><td>36.69899</td><td>30      </td></tr>\n",
       "\t<tr><td>17.14738</td><td>20      </td></tr>\n",
       "</tbody>\n",
       "</table>\n"
      ],
      "text/latex": [
       "\\begin{tabular}{r|ll}\n",
       " est\\_Y & Y\\\\\n",
       "\\hline\n",
       "\t 26.92318 & 21      \\\\\n",
       "\t 52.34027 & 47      \\\\\n",
       "\t 33.76624 & 27      \\\\\n",
       "\t 85.57800 & 75      \\\\\n",
       "\t 36.69899 & 30      \\\\\n",
       "\t 17.14738 & 20      \\\\\n",
       "\\end{tabular}\n"
      ],
      "text/markdown": [
       "\n",
       "| est_Y | Y |\n",
       "|---|---|\n",
       "| 26.92318 | 21       |\n",
       "| 52.34027 | 47       |\n",
       "| 33.76624 | 27       |\n",
       "| 85.57800 | 75       |\n",
       "| 36.69899 | 30       |\n",
       "| 17.14738 | 20       |\n",
       "\n"
      ],
      "text/plain": [
       "  est_Y    Y \n",
       "1 26.92318 21\n",
       "2 52.34027 47\n",
       "3 33.76624 27\n",
       "4 85.57800 75\n",
       "5 36.69899 30\n",
       "6 17.14738 20"
      ]
     },
     "metadata": {},
     "output_type": "display_data"
    }
   ],
   "source": [
    "# comparing actual V/s fitted values of model \n",
    "est_Y=fitted.values(model)\n",
    "D=data.frame(est_Y , Y)\n",
    "head(D)"
   ]
  },
  {
   "cell_type": "code",
   "execution_count": 26,
   "id": "7d08c7fe",
   "metadata": {},
   "outputs": [
    {
     "data": {
      "text/html": [
       "<table>\n",
       "<thead><tr><th></th><th scope=col>no</th><th scope=col>y_obs</th><th scope=col>y_fit</th></tr></thead>\n",
       "<tbody>\n",
       "\t<tr><th scope=row>1</th><td> 1      </td><td>21      </td><td>26.92318</td></tr>\n",
       "\t<tr><th scope=row>6</th><td> 6      </td><td>20      </td><td>17.14738</td></tr>\n",
       "\t<tr><th scope=row>11</th><td>11      </td><td>85      </td><td>77.75736</td></tr>\n",
       "\t<tr><th scope=row>16</th><td>16      </td><td>95      </td><td>89.48832</td></tr>\n",
       "\t<tr><th scope=row>21</th><td>21      </td><td>30      </td><td>28.87834</td></tr>\n",
       "</tbody>\n",
       "</table>\n"
      ],
      "text/latex": [
       "\\begin{tabular}{r|lll}\n",
       "  & no & y\\_obs & y\\_fit\\\\\n",
       "\\hline\n",
       "\t1 &  1       & 21       & 26.92318\\\\\n",
       "\t6 &  6       & 20       & 17.14738\\\\\n",
       "\t11 & 11       & 85       & 77.75736\\\\\n",
       "\t16 & 16       & 95       & 89.48832\\\\\n",
       "\t21 & 21       & 30       & 28.87834\\\\\n",
       "\\end{tabular}\n"
      ],
      "text/markdown": [
       "\n",
       "| <!--/--> | no | y_obs | y_fit |\n",
       "|---|---|---|---|\n",
       "| 1 |  1       | 21       | 26.92318 |\n",
       "| 6 |  6       | 20       | 17.14738 |\n",
       "| 11 | 11       | 85       | 77.75736 |\n",
       "| 16 | 16       | 95       | 89.48832 |\n",
       "| 21 | 21       | 30       | 28.87834 |\n",
       "\n"
      ],
      "text/plain": [
       "   no y_obs y_fit   \n",
       "1   1 21    26.92318\n",
       "6   6 20    17.14738\n",
       "11 11 85    77.75736\n",
       "16 16 95    89.48832\n",
       "21 21 30    28.87834"
      ]
     },
     "metadata": {},
     "output_type": "display_data"
    }
   ],
   "source": [
    "Df=data.frame(c(1 , 6 , 11 , 16 , 21)  , Y[c( 1 , 6 , 11 , 16 , 21)] , est_Y[c( 1 , 6 , 11 , 16 , 21)] )\n",
    "colnames(Df)<-c(\"no\" , \"y_obs\", \"y_fit\")\n",
    "Df"
   ]
  },
  {
   "cell_type": "code",
   "execution_count": 28,
   "id": "ccb97352",
   "metadata": {},
   "outputs": [
    {
     "data": {
      "image/png": "[encoded data removed]",
      "text/plain": [
       "plot without title"
      ]
     },
     "metadata": {},
     "output_type": "display_data"
    }
   ],
   "source": [
    "barplot(cbind(Df$y_obs, Df$y_fit) ~ Df$no ,\n",
    "        beside = TRUE,\n",
    "        xlab = \"Observation index\",\n",
    "        ylab = \"Scores by students\",\n",
    "        col = c(\"green\", \"purple\"),\n",
    "        legend.text = c(\"actual scores\", \"Fitted scores\"))"
   ]
  },
  {
   "cell_type": "markdown",
   "id": "0f12f23e",
   "metadata": {},
   "source": [
    "Clearly from above graph we can see that __observed and fitted values of the scores__ are almost same which indicates that we have appropriately fitted the model "
   ]
  },
  {
   "cell_type": "code",
   "execution_count": 11,
   "id": "795a850a",
   "metadata": {},
   "outputs": [
    {
     "data": {
      "image/png": "[encoded data removed]",
      "text/plain": [
       "plot without title"
      ]
     },
     "metadata": {},
     "output_type": "display_data"
    }
   ],
   "source": [
    "#define residuals\n",
    "res <- resid(model)\n",
    "\n",
    "#produce residual vs. fitted plot\n",
    "plot(fitted(model), res)\n",
    "\n",
    "#add a horizontal line at 0 \n",
    "abline(0,0)"
   ]
  },
  {
   "cell_type": "markdown",
   "id": "10aaccb3",
   "metadata": {},
   "source": [
    "### Clear observations from the above plot are :- \n",
    "\n",
    "1)The residuals are spread randomly around the horizontal line at 0 indicates that the assumption that the relationship is linear\n",
    "\n",
    "2)None of the residual fails to follow the basic random pattern(trend) of residuals.This suggests that there are no outliers."
   ]
  },
  {
   "cell_type": "markdown",
   "id": "ee684ffe",
   "metadata": {},
   "source": [
    "***"
   ]
  },
  {
   "cell_type": "markdown",
   "id": "f0fb25e9",
   "metadata": {},
   "source": [
    "## Step-6 :-  prediction of Score when no of hours studied per day is given "
   ]
  },
  {
   "cell_type": "code",
   "execution_count": 20,
   "id": "076be9d4",
   "metadata": {
    "scrolled": true
   },
   "outputs": [
    {
     "data": {
      "text/html": [
       "<strong>1:</strong> 92.9098547701573"
      ],
      "text/latex": [
       "\\textbf{1:} 92.9098547701573"
      ],
      "text/markdown": [
       "**1:** 92.9098547701573"
      ],
      "text/plain": [
       "       1 \n",
       "92.90985 "
      ]
     },
     "metadata": {},
     "output_type": "display_data"
    }
   ],
   "source": [
    "new <- data.frame(X=c(9.25))\n",
    "predict(model, newdata = new)"
   ]
  },
  {
   "cell_type": "markdown",
   "id": "b15c4166",
   "metadata": {},
   "source": [
    " #### If a student studies for 9.25 hours per day then he can approximately score 93 marks(marks given as integer) in the examination"
   ]
  },
  {
   "cell_type": "markdown",
   "id": "ab66a7e2",
   "metadata": {},
   "source": [
    "***\n",
    "***"
   ]
  },
  {
   "cell_type": "markdown",
   "id": "654b0ee2",
   "metadata": {},
   "source": [
    "## CONCLUSION OF TASK-1\n",
    "\n",
    "### 1. We fitted the simple linear regression model of predictor hours studied per day on response variable Scores obatined in the exam\n",
    "\n",
    "### 2.Fitted model is given by formula Y = 2.4837 + 9.7758*X ( where Y is score obtained and x is hours studied as mentioned earlier )\n",
    "\n",
    "### 3. value of R-SQUARED is 0.9529 that indicates __95.29 %__ amount of variablity in the scores is explained by amount of hours studied. which implies our model is good fit.\n",
    "\n",
    "### 4. If a student studies for __9.25 hours per day__ then he can approximately score __93 marks__ in the examination"
   ]
  },
  {
   "cell_type": "markdown",
   "id": "502e89a3",
   "metadata": {},
   "source": [
    "***\n",
    "***"
   ]
  },
  {
   "cell_type": "markdown",
   "id": "d8a664a8",
   "metadata": {},
   "source": [
    "# THANK YOU "
   ]
  }
 ],
 "metadata": {
  "kernelspec": {
   "display_name": "R",
   "language": "R",
   "name": "ir"
  },
  "language_info": {
   "codemirror_mode": "r",
   "file_extension": ".r",
   "mimetype": "text/x-r-source",
   "name": "R",
   "pygments_lexer": "r",
   "version": "3.6.1"
  }
 },
 "nbformat": 4,
 "nbformat_minor": 5
}
